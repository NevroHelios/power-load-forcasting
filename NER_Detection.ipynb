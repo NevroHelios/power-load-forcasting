{
 "cells": [
  {
   "metadata": {
    "ExecuteTime": {
     "end_time": "2025-08-06T05:33:18.802652Z",
     "start_time": "2025-08-06T05:33:18.429408Z"
    }
   },
   "cell_type": "code",
   "source": [
    "import pytesseract\n",
    "import docx\n",
    "from PIL import Image\n",
    "import os\n",
    "import pandas as pd\n",
    "import ollama"
   ],
   "id": "4dbf54d3ea4a9328",
   "outputs": [],
   "execution_count": 1
  },
  {
   "metadata": {
    "ExecuteTime": {
     "end_time": "2025-08-06T05:33:18.825525Z",
     "start_time": "2025-08-06T05:33:18.821278Z"
    }
   },
   "cell_type": "code",
   "source": [
    "src_train = 'data/train'\n",
    "files = os.listdir(src_train)\n",
    "files"
   ],
   "id": "d7dc22cc58d59593",
   "outputs": [
    {
     "data": {
      "text/plain": [
       "['46239065-Standard-Rental-Agreement-Rental-With-Performance-Fee.docx',\n",
       " '18325926-Rental-Agreement-1.docx',\n",
       " '6683127-House-Rental-Contract-GERALDINE-GALINATO-v2-Page-1.docx',\n",
       " '47854715-RENTAL-AGREEMENT.docx',\n",
       " '36199312-Rental-Agreement.png',\n",
       " '6683129-House-Rental-Contract-Geraldine-Galinato-v2.docx',\n",
       " '54770958-Rental-Agreement.png',\n",
       " '44737744-Maddireddy-Bhargava-Reddy-Rental-Agreement.docx',\n",
       " '50070534-RENTAL-AGREEMENT.docx',\n",
       " '54945838-Rental-Agreement.png']"
      ]
     },
     "execution_count": 2,
     "metadata": {},
     "output_type": "execute_result"
    }
   ],
   "execution_count": 2
  },
  {
   "metadata": {
    "ExecuteTime": {
     "end_time": "2025-08-06T05:33:28.849024Z",
     "start_time": "2025-08-06T05:33:28.846023Z"
    }
   },
   "cell_type": "code",
   "source": "data = pd.read_csv('data/train.csv')",
   "id": "8078e9043b1e290c",
   "outputs": [],
   "execution_count": 9
  },
  {
   "metadata": {
    "ExecuteTime": {
     "end_time": "2025-08-06T06:11:16.431304Z",
     "start_time": "2025-08-06T06:11:16.422455Z"
    }
   },
   "cell_type": "code",
   "source": [
    "doc_file = os.path.join(src_train, files[1])\n",
    "doc = docx.Document(doc_file)\n",
    "doc_text = ' '.join(p.text for p in doc.paragraphs if p.text.strip() != '')\n",
    "\n",
    "def clean_data(text):\n",
    "    text = text.replace('\\n', ' ')\n",
    "    text = text.replace('\\t', ' ')\n",
    "    text = text.replace(\"\\'\", ' ')\n",
    "    text = text.replace('\\\"', ' ')\n",
    "    return text\n",
    "doc_text = clean_data(doc_text)\n",
    "doc_text"
   ],
   "id": "9f17c5902ee5674",
   "outputs": [
    {
     "data": {
      "text/plain": [
       "'RENTAL AGREEMENT This deed of rental agreement executed at Bangalore this fifth day of December 2008 between MR.K.Kuttan S/o Kelu Aehari (Late) residing at site No 152 Geethalayam OMH colong S.M. Road 1st main, T.Dasarahalli, Bangalore-57. Here after called the lessor which term shall where the contest so admits mean and includes his legal heirs representatives executors and assign and Sri. P.M. Narayana Namboodri “Laxmi Leela” ground floor 3rd cross Ayyappa Nagar behind Ayyappa Temple, Jalahalli West, Bangalore - 15 referred as tenant which term shall wherever the context so admits mean and includes his legal heirs representations executors assign witnesses. Whereas the lessor is the absolute owner after premises at site No. 8/20 S.M. Road, Jalahalli West, Bangalore - 15 and he has constructed approximate 500 sft area of Ilnd floor with A.C. Sheet roof with power light in the above said premises. Where as the owner has offered to let out the premises for non residential purpose, where as the tenant has offered to take the said premises on rent for non residential purpose namely for “MAHALAKSHMI INDUSTRIAL CONSULTANT’ and tenant is the Proprietor of the business and he has agreed to pay rent Rs.4,000.00 (Rupees Four Thousand only) for above said premises with the following terms and conditions:- The agreement made only for eleven months from this date of agreement. Fresh agreement with mutual terms and conditions have to be extended (6.p.c is expecting every eleventh month). The tenant shall pay the rent above said, on before 10th of each month. An advance amount of Rs.35,000/- (Rupees thirty five thousand only) is paid by the tenant to the owner at the time of commencement of this agreement, the receipt where of is hereby acknowledged signing this agreement by the owner. The advance shall not carry any interest and refundable to the tenant at the time of vacating the schedule premises. Any arrears of rent electricity and water dues is permissible to deduct from the advance. Each party shall be liable to give three month advance notice for the termination of this agreement. The tenant shall pay the electricity and water charges within one week from the date of receipt of the bills. the tenant shall at the termination of this agreement have to remove superstructure if any put by the tenant at his own expenses and deliver the possession to the owner in good and tenable condition. The tenant shall himself obtain the license for the business top be carried on by him. The tenant shall not sublet or underlet the demised portion or any part there of to any third party. The building owner shall not in any case be held responsible with for any kind of theft, burglary, fire or accident within the portion of the building. All kinds of security arrangements insurances etc., will have to be done by the tenant if necessary. The tenant shall keep good relationship with neighbors. SIIIDIII WITNESSES OWNER TENANT 1.'"
      ]
     },
     "execution_count": 65,
     "metadata": {},
     "output_type": "execute_result"
    }
   ],
   "execution_count": 65
  },
  {
   "metadata": {
    "ExecuteTime": {
     "end_time": "2025-08-06T06:11:24.405980Z",
     "start_time": "2025-08-06T06:11:22.883806Z"
    }
   },
   "cell_type": "code",
   "source": [
    "img = Image.open(os.path.join(src_train, \"54945838-Rental-Agreement.png\"))\n",
    "text = pytesseract.image_to_string(img, lang='eng')\n",
    "\n",
    "\n",
    "text = clean_data(text)\n",
    "text"
   ],
   "id": "c10b4a428032450f",
   "outputs": [
    {
     "data": {
      "text/plain": [
       "'RENTAL AGREEMENT  This Rental Agreement made and executed at Bangalore on this 1st day April two thousand eleven (01/04/2011), between Prof. K. Parthasarathy, S/o. Late T.S.Krishna lyengar aged about 75 years, No. 46, Srinivasa, 2  Main Road, Hanumanthanagar, Bangalore-560019, herein after called “LESSOR” (which expression shall where-ever the context so requires or permits mean  and include here heirs, executors, administrators and assign) of the FIRST PART. AND  Mr. Veerabrahmam Bathini, S/o Mr.Lingaiah Bathini aged about 28 years (Sr. Engineer-PSS working at Power Research and Development Consultants, #5, 11™  cross, 2  stage, West of Chord Road, Bangalore-560086, herein after called “LESSEE” (Tenant) of the SECOND PART.  WITNESSETH AS FOLLOWS:  1. The Lessor hereby covenants with Lessee and warrants that he is the owner and as such as the right and the authority to lease the First Floor of premises No. 146, Krishna Krupa, 3  Cross, 1%t Main, VHBCSL Layout, West of Chord Road, Bangalore-560086.  2. The Lessor hereby agrees to let to the Lessee the First Floor of the premises, No. 146, Krishna Krupa, 3 Cross, 1%t Main, VHBCSL Layout, West of Chord Road, Bangalore-  560086 on the following terms conditions.  3. The Lessee will pay the Lessor for the premises herein described in the schedule, a monthly rent of Rs.8,000/- (Ruppes eight thousand only). The rent shall be paid on or before 10  of each calendar month without deductions whatsoever. If the Lessee fails to pay the monthly rent in time, the Lessor shall have the liberty to resume the schedule  premises without re-course to any action, legal or other wise.  4. The Lessee shall not pay any advance to the premises.  5. This rental agreement shall be valid for a period of twelve months, from the date of  execution and subject to renewal on expiry of the above lease period on execution of  fresh LEASE-DEED on mutual consent. 6. Under no circumstances, the schedule premises shall be sublet or underlet to any one  else but shall be used by lessee for his bonafide residence only.  7. The Lessee undertakes the full responsibility for the payment of all electric and water  charges and receipts retained for record.  8. Additions or alterations shall not be made to th existing structure without written consent from the Lessor.  9. If any damage is caused to the schedule premises, the same shall be got repaired by the Lessee at his own cost.  10. The Lessee upon termination of this agreement will peacefully and quietly leave to the Lessor the possession of the said premises together with the fixtures and fittings as given below in substantially same condition by the lessee except for the normal wear and tear.  11. The Lessor or his authorized agent shall be permitted to enter schedule premises at all  reasonable hours to inspect the same for its wear and tear. 12. Both the parties agree that this lease agreement may be terminated by the Lessee by giving three months notice in writing. SCHEDULE The first floor of the No. 146, VHBCSL Layout, 3 cross, 15t Main, Bangalore-560086 bounded by East by 147 and North by 161  West by Road and South by Road  ANTNEXEERE LESSOR  Fouf nuGdilarg Tamod8” nuniberEnepean closet nuniberé/aabibasinwith Johngoiemake) 150 Itrs koréaterageysen(25 Itrs)-- nos5. Solar water heater  6. Tube lights  IN WITNESS WHEREOF the Lessor and Lessee have affixed their signature to this rental  agreement on the day, month and the year first above written.  LESSEE '"
      ]
     },
     "execution_count": 66,
     "metadata": {},
     "output_type": "execute_result"
    }
   ],
   "execution_count": 66
  },
  {
   "metadata": {
    "ExecuteTime": {
     "end_time": "2025-08-06T06:09:22.159509Z",
     "start_time": "2025-08-06T06:09:22.156331Z"
    }
   },
   "cell_type": "code",
   "source": [
    "def get_prompt(text, prev_note=\"\"):\n",
    "    return f\"\"\"\n",
    "You are a contract parser. From the following legal/rental agreement, extract and return *only* a JSON object with these exact fields:\n",
    "\n",
    "- \"Agreement Value\": The monthly payable rent or total financial obligation. It may be mentioned as \"rent\", \"sum of Rs.\", etc.\n",
    "- \"Agreement Start Date\": The date when the agreement begins. If mentioned indirectly (e.g., \"commences from the 1st of April\"), interpret accordingly.\n",
    "- \"Agreement End Date\": The date the agreement ends. If given as a duration (e.g., \"valid for 11 months\" or \"90 days after start\"), compute and convert it.\n",
    "- \"Renewal Notice (Days)\": The number of days before the end date that a notice must be given to renew or terminate the agreement. This could be written as \"30 days prior notice\", \"one month notice\", \"per months\", etc.\n",
    "- \"Party One\": The name of the first party (e.g., owner, landlord, licensor).\n",
    "- \"Party Two\": The name of the second party (e.g., tenant, licensee, lessee).\n",
    "\n",
    "**Important Formatting Instructions**:\n",
    "- Dates must be in `dd.mm.yyyy` format.\n",
    "- If any field is not found or cannot be interpreted, set it as `null`.\n",
    "- If it says \"per months\" or similar, interpret it as a monthly payment.\n",
    "- The Agreement Value should be a number, not a string.\n",
    "\n",
    "Here is the agreement text:\n",
    "{text}\n",
    "\n",
    "previous note (the structure remains the same, update the values as you find them):\n",
    "{prev_note}\n",
    "\"\"\""
   ],
   "id": "4cb3d6fda302a68",
   "outputs": [],
   "execution_count": 63
  },
  {
   "metadata": {
    "ExecuteTime": {
     "end_time": "2025-08-06T06:09:24.863278Z",
     "start_time": "2025-08-06T06:09:22.362844Z"
    }
   },
   "cell_type": "code",
   "source": [
    "def run_llm(text_chunk, prev_note=\"\"):\n",
    "    stream = ollama.chat(\n",
    "        model='qwen3:4b',\n",
    "        messages=[\n",
    "            {\n",
    "                'role': 'system',\n",
    "                \"content\": '/set nothink'\n",
    "            },\n",
    "            {\n",
    "                'role': 'user',\n",
    "                'content': get_prompt(text_chunk, prev_note=prev_note)\n",
    "            }\n",
    "        ],\n",
    "        stream=True\n",
    "    )\n",
    "\n",
    "    response = ''\n",
    "    for chunk in stream:\n",
    "        response += chunk['message']['content']\n",
    "    return response\n",
    "\n",
    "dct = {}\n",
    "for i in range(0, len(doc_text), 4000):\n",
    "    note = run_llm(doc_text[:i+4000], prev_note=dct.get('prev_note', ''))\n",
    "    dct['prev_note'] = note\n",
    "    print(note)\n",
    "    print('---')"
   ],
   "id": "faf7aefe5674a887",
   "outputs": [
    {
     "name": "stdout",
     "output_type": "stream",
     "text": [
      "<think>\n",
      "\n",
      "</think>\n",
      "\n",
      "{\n",
      "  \"Agreement Value\": 4000,\n",
      "  \"Agreement Start Date\": \"05.12.2008\",\n",
      "  \"Agreement End Date\": \"15.05.2009\",\n",
      "  \"Renewal Notice (Days)\": 90,\n",
      "  \"Party One\": \"MR.K.Kuttan S/o Kelu Aehari (Late)\",\n",
      "  \"Party Two\": \"Sri. P.M. Narayana Namboodri \\\"Laxmi Leela\\\"\"\n",
      "}\n",
      "---\n"
     ]
    }
   ],
   "execution_count": 64
  },
  {
   "metadata": {
    "ExecuteTime": {
     "end_time": "2025-08-06T05:33:28.772675Z",
     "start_time": "2025-08-06T05:33:28.767205Z"
    }
   },
   "cell_type": "code",
   "source": "data",
   "id": "eecab2cec7c9814c",
   "outputs": [
    {
     "data": {
      "text/plain": [
       "                                           File Name  Aggrement Value  \\\n",
       "0  6683127-House-Rental-Contract-GERALDINE-GALINA...             6500   \n",
       "1  6683129-House-Rental-Contract-Geraldine-Galina...             6500   \n",
       "2                        18325926-Rental-Agreement-1             4000   \n",
       "3                          24158401-Rental-Agreement            12000   \n",
       "4                          36199312-Rental-Agreement             3800   \n",
       "5  44737744-Maddireddy-Bhargava-Reddy-Rental-Agre...             3000   \n",
       "6                          47854715-RENTAL-AGREEMENT             9000   \n",
       "7                          50070534-RENTAL-AGREEMENT            10000   \n",
       "8                          54770958-Rental-Agreement             8000   \n",
       "9                          54945838-Rental-Agreement             5500   \n",
       "\n",
       "  Aggrement Start Date Aggrement End Date  Renewal Notice (Days)  \\\n",
       "0           20.05.2007         20.05.2008                   15.0   \n",
       "1           20.05.2007         20.05.2008                   15.0   \n",
       "2           05.12.2008         31.11.2009                   90.0   \n",
       "3           01.04.2008         31.03.2009                   60.0   \n",
       "4           01.05.2010         31.04.2011                   30.0   \n",
       "5           20.09.2010         19.07.2011                    NaN   \n",
       "6           01.04.2010         31.02.2011                   60.0   \n",
       "7          01.04.2010          30.03.2011                   90.0   \n",
       "8           01.04.2011         31.03.2012                   90.0   \n",
       "9           21.04.2011         19.02.2012                   60.0   \n",
       "\n",
       "                                           Party One  \\\n",
       "0  Antonio Levy S. Ingles, Jr. and/or Mary Rose C...   \n",
       "1  Antonio Levy S. Ingles, Jr. and/or Mary Rose C...   \n",
       "2                                       MR.K.Kuttan    \n",
       "3                                         Hanumaiah    \n",
       "4                                          Balaji.R    \n",
       "5                              M.V.V. VIJAYA SHANKAR   \n",
       "6                                         P C MATHEW   \n",
       "7                                P. JohnsonRavikumar   \n",
       "8                                   K. Parthasarathy   \n",
       "9                           Asha Ramesh & Ramesh K.N   \n",
       "\n",
       "                               Party Two  \n",
       "0                  GERALDINE Q. GALINATO  \n",
       "1                  GERALDINE Q. GALINATO  \n",
       "2               P.M. Narayana Namboodri   \n",
       "3                       Vishal Bhardwaj   \n",
       "4                             Kartheek R  \n",
       "5              MADDIREDDY BHARGAVA REDDY  \n",
       "6                            L GOPINATH   \n",
       "7                          Saravanan BV   \n",
       "8                   Veerabrahmam Bathini  \n",
       "9  Sadasivuni Deepthi & Sadasivuni Kiran  "
      ],
      "text/html": [
       "<div>\n",
       "<style scoped>\n",
       "    .dataframe tbody tr th:only-of-type {\n",
       "        vertical-align: middle;\n",
       "    }\n",
       "\n",
       "    .dataframe tbody tr th {\n",
       "        vertical-align: top;\n",
       "    }\n",
       "\n",
       "    .dataframe thead th {\n",
       "        text-align: right;\n",
       "    }\n",
       "</style>\n",
       "<table border=\"1\" class=\"dataframe\">\n",
       "  <thead>\n",
       "    <tr style=\"text-align: right;\">\n",
       "      <th></th>\n",
       "      <th>File Name</th>\n",
       "      <th>Aggrement Value</th>\n",
       "      <th>Aggrement Start Date</th>\n",
       "      <th>Aggrement End Date</th>\n",
       "      <th>Renewal Notice (Days)</th>\n",
       "      <th>Party One</th>\n",
       "      <th>Party Two</th>\n",
       "    </tr>\n",
       "  </thead>\n",
       "  <tbody>\n",
       "    <tr>\n",
       "      <th>0</th>\n",
       "      <td>6683127-House-Rental-Contract-GERALDINE-GALINA...</td>\n",
       "      <td>6500</td>\n",
       "      <td>20.05.2007</td>\n",
       "      <td>20.05.2008</td>\n",
       "      <td>15.0</td>\n",
       "      <td>Antonio Levy S. Ingles, Jr. and/or Mary Rose C...</td>\n",
       "      <td>GERALDINE Q. GALINATO</td>\n",
       "    </tr>\n",
       "    <tr>\n",
       "      <th>1</th>\n",
       "      <td>6683129-House-Rental-Contract-Geraldine-Galina...</td>\n",
       "      <td>6500</td>\n",
       "      <td>20.05.2007</td>\n",
       "      <td>20.05.2008</td>\n",
       "      <td>15.0</td>\n",
       "      <td>Antonio Levy S. Ingles, Jr. and/or Mary Rose C...</td>\n",
       "      <td>GERALDINE Q. GALINATO</td>\n",
       "    </tr>\n",
       "    <tr>\n",
       "      <th>2</th>\n",
       "      <td>18325926-Rental-Agreement-1</td>\n",
       "      <td>4000</td>\n",
       "      <td>05.12.2008</td>\n",
       "      <td>31.11.2009</td>\n",
       "      <td>90.0</td>\n",
       "      <td>MR.K.Kuttan</td>\n",
       "      <td>P.M. Narayana Namboodri</td>\n",
       "    </tr>\n",
       "    <tr>\n",
       "      <th>3</th>\n",
       "      <td>24158401-Rental-Agreement</td>\n",
       "      <td>12000</td>\n",
       "      <td>01.04.2008</td>\n",
       "      <td>31.03.2009</td>\n",
       "      <td>60.0</td>\n",
       "      <td>Hanumaiah</td>\n",
       "      <td>Vishal Bhardwaj</td>\n",
       "    </tr>\n",
       "    <tr>\n",
       "      <th>4</th>\n",
       "      <td>36199312-Rental-Agreement</td>\n",
       "      <td>3800</td>\n",
       "      <td>01.05.2010</td>\n",
       "      <td>31.04.2011</td>\n",
       "      <td>30.0</td>\n",
       "      <td>Balaji.R</td>\n",
       "      <td>Kartheek R</td>\n",
       "    </tr>\n",
       "    <tr>\n",
       "      <th>5</th>\n",
       "      <td>44737744-Maddireddy-Bhargava-Reddy-Rental-Agre...</td>\n",
       "      <td>3000</td>\n",
       "      <td>20.09.2010</td>\n",
       "      <td>19.07.2011</td>\n",
       "      <td>NaN</td>\n",
       "      <td>M.V.V. VIJAYA SHANKAR</td>\n",
       "      <td>MADDIREDDY BHARGAVA REDDY</td>\n",
       "    </tr>\n",
       "    <tr>\n",
       "      <th>6</th>\n",
       "      <td>47854715-RENTAL-AGREEMENT</td>\n",
       "      <td>9000</td>\n",
       "      <td>01.04.2010</td>\n",
       "      <td>31.02.2011</td>\n",
       "      <td>60.0</td>\n",
       "      <td>P C MATHEW</td>\n",
       "      <td>L GOPINATH</td>\n",
       "    </tr>\n",
       "    <tr>\n",
       "      <th>7</th>\n",
       "      <td>50070534-RENTAL-AGREEMENT</td>\n",
       "      <td>10000</td>\n",
       "      <td>01.04.2010</td>\n",
       "      <td>30.03.2011</td>\n",
       "      <td>90.0</td>\n",
       "      <td>P. JohnsonRavikumar</td>\n",
       "      <td>Saravanan BV</td>\n",
       "    </tr>\n",
       "    <tr>\n",
       "      <th>8</th>\n",
       "      <td>54770958-Rental-Agreement</td>\n",
       "      <td>8000</td>\n",
       "      <td>01.04.2011</td>\n",
       "      <td>31.03.2012</td>\n",
       "      <td>90.0</td>\n",
       "      <td>K. Parthasarathy</td>\n",
       "      <td>Veerabrahmam Bathini</td>\n",
       "    </tr>\n",
       "    <tr>\n",
       "      <th>9</th>\n",
       "      <td>54945838-Rental-Agreement</td>\n",
       "      <td>5500</td>\n",
       "      <td>21.04.2011</td>\n",
       "      <td>19.02.2012</td>\n",
       "      <td>60.0</td>\n",
       "      <td>Asha Ramesh &amp; Ramesh K.N</td>\n",
       "      <td>Sadasivuni Deepthi &amp; Sadasivuni Kiran</td>\n",
       "    </tr>\n",
       "  </tbody>\n",
       "</table>\n",
       "</div>"
      ]
     },
     "execution_count": 8,
     "metadata": {},
     "output_type": "execute_result"
    }
   ],
   "execution_count": 8
  }
 ],
 "metadata": {},
 "nbformat": 4,
 "nbformat_minor": 5
}
